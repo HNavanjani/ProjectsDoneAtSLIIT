{
 "cells": [
  {
   "cell_type": "markdown",
   "metadata": {
    "colab_type": "text",
    "id": "2IpWNoAsSzbM"
   },
   "source": [
    "Predicting word difficulty"
   ]
  },
  {
   "cell_type": "markdown",
   "metadata": {
    "colab_type": "text",
    "id": "pmXNCAe6MrIS"
   },
   "source": [
    "1.Importing the libraries"
   ]
  },
  {
   "cell_type": "code",
   "execution_count": 59,
   "metadata": {
    "colab": {
     "base_uri": "https://localhost:8080/",
     "height": 71
    },
    "colab_type": "code",
    "id": "oFDm6DZCTEg-",
    "outputId": "73a225ee-0f9e-46ad-ae7b-f5a3a6fd880a"
   },
   "outputs": [],
   "source": [
    "import numpy as np\n",
    "import pandas as pd\n",
    "import matplotlib.pyplot as plt\n",
    "import seaborn as sns\n",
    "from pylab import rcParams\n",
    "from sklearn.metrics import recall_score, confusion_matrix, precision_score, f1_score, accuracy_score, classification_report\n",
    "%matplotlib inline"
   ]
  },
  {
   "cell_type": "markdown",
   "metadata": {
    "colab_type": "text",
    "id": "ei7F_suZNDi_"
   },
   "source": [
    "2.Loading the dataset"
   ]
  },
  {
   "cell_type": "code",
   "execution_count": 60,
   "metadata": {
    "colab": {},
    "colab_type": "code",
    "id": "vnkBg0lqMqgV"
   },
   "outputs": [],
   "source": [
    "data = pd.read_csv(\"C:\\\\Users\\\\KHN\\\\Desktop\\\\worddataset.csv\")"
   ]
  },
  {
   "cell_type": "code",
   "execution_count": 61,
   "metadata": {
    "colab": {
     "base_uri": "https://localhost:8080/",
     "height": 204
    },
    "colab_type": "code",
    "id": "Jq3q6eNtTA3N",
    "outputId": "4550dfdb-9a3e-4e59-95c9-8faf1890bf68"
   },
   "outputs": [
    {
     "data": {
      "text/html": [
       "<div>\n",
       "<style scoped>\n",
       "    .dataframe tbody tr th:only-of-type {\n",
       "        vertical-align: middle;\n",
       "    }\n",
       "\n",
       "    .dataframe tbody tr th {\n",
       "        vertical-align: top;\n",
       "    }\n",
       "\n",
       "    .dataframe thead th {\n",
       "        text-align: right;\n",
       "    }\n",
       "</style>\n",
       "<table border=\"1\" class=\"dataframe\">\n",
       "  <thead>\n",
       "    <tr style=\"text-align: right;\">\n",
       "      <th></th>\n",
       "      <th>words</th>\n",
       "      <th>no_of_char</th>\n",
       "      <th>syllable_count</th>\n",
       "      <th>Frequency_of_occurrence</th>\n",
       "      <th>presence_of_ch,sh,th,st,f</th>\n",
       "      <th>part_of_speech</th>\n",
       "      <th>pronounce_g_j</th>\n",
       "      <th>Pronounce_c_k</th>\n",
       "      <th>overall_label</th>\n",
       "    </tr>\n",
       "  </thead>\n",
       "  <tbody>\n",
       "    <tr>\n",
       "      <th>0</th>\n",
       "      <td>ABILITIES</td>\n",
       "      <td>1</td>\n",
       "      <td>1</td>\n",
       "      <td>0</td>\n",
       "      <td>0</td>\n",
       "      <td>1</td>\n",
       "      <td>0</td>\n",
       "      <td>0</td>\n",
       "      <td>0</td>\n",
       "    </tr>\n",
       "    <tr>\n",
       "      <th>1</th>\n",
       "      <td>ABORIGINAL</td>\n",
       "      <td>1</td>\n",
       "      <td>1</td>\n",
       "      <td>0</td>\n",
       "      <td>0</td>\n",
       "      <td>1</td>\n",
       "      <td>1</td>\n",
       "      <td>0</td>\n",
       "      <td>1</td>\n",
       "    </tr>\n",
       "    <tr>\n",
       "      <th>2</th>\n",
       "      <td>ABU DHABI</td>\n",
       "      <td>1</td>\n",
       "      <td>1</td>\n",
       "      <td>1</td>\n",
       "      <td>0</td>\n",
       "      <td>1</td>\n",
       "      <td>0</td>\n",
       "      <td>0</td>\n",
       "      <td>1</td>\n",
       "    </tr>\n",
       "    <tr>\n",
       "      <th>3</th>\n",
       "      <td>ACADEMY</td>\n",
       "      <td>1</td>\n",
       "      <td>1</td>\n",
       "      <td>1</td>\n",
       "      <td>0</td>\n",
       "      <td>1</td>\n",
       "      <td>0</td>\n",
       "      <td>1</td>\n",
       "      <td>1</td>\n",
       "    </tr>\n",
       "    <tr>\n",
       "      <th>4</th>\n",
       "      <td>ACCESS</td>\n",
       "      <td>0</td>\n",
       "      <td>0</td>\n",
       "      <td>1</td>\n",
       "      <td>0</td>\n",
       "      <td>1</td>\n",
       "      <td>0</td>\n",
       "      <td>1</td>\n",
       "      <td>1</td>\n",
       "    </tr>\n",
       "  </tbody>\n",
       "</table>\n",
       "</div>"
      ],
      "text/plain": [
       "        words  no_of_char  syllable_count  Frequency_of_occurrence  \\\n",
       "0   ABILITIES           1               1                        0   \n",
       "1  ABORIGINAL           1               1                        0   \n",
       "2   ABU DHABI           1               1                        1   \n",
       "3     ACADEMY           1               1                        1   \n",
       "4      ACCESS           0               0                        1   \n",
       "\n",
       "   presence_of_ch,sh,th,st,f  part_of_speech  pronounce_g_j  Pronounce_c_k  \\\n",
       "0                          0               1              0              0   \n",
       "1                          0               1              1              0   \n",
       "2                          0               1              0              0   \n",
       "3                          0               1              0              1   \n",
       "4                          0               1              0              1   \n",
       "\n",
       "   overall_label  \n",
       "0              0  \n",
       "1              1  \n",
       "2              1  \n",
       "3              1  \n",
       "4              1  "
      ]
     },
     "execution_count": 61,
     "metadata": {},
     "output_type": "execute_result"
    }
   ],
   "source": [
    "data.head()"
   ]
  },
  {
   "cell_type": "markdown",
   "metadata": {
    "colab_type": "text",
    "id": "fdK1NCs2NXD-"
   },
   "source": [
    "3.Exploring the data"
   ]
  },
  {
   "cell_type": "code",
   "execution_count": 62,
   "metadata": {
    "colab": {
     "base_uri": "https://localhost:8080/",
     "height": 34
    },
    "colab_type": "code",
    "id": "49wK8LEoIHqu",
    "outputId": "775de264-23e0-4516-8aa0-bad17b8bff4e"
   },
   "outputs": [
    {
     "data": {
      "text/plain": [
       "(1000, 9)"
      ]
     },
     "execution_count": 62,
     "metadata": {},
     "output_type": "execute_result"
    }
   ],
   "source": [
    "data.shape"
   ]
  },
  {
   "cell_type": "code",
   "execution_count": 63,
   "metadata": {
    "colab": {
     "base_uri": "https://localhost:8080/",
     "height": 170
    },
    "colab_type": "code",
    "id": "2h67F28sN2LI",
    "outputId": "48697ada-5905-4d95-a410-cfc703255650"
   },
   "outputs": [
    {
     "data": {
      "text/plain": [
       "['words',\n",
       " 'no_of_char',\n",
       " 'syllable_count',\n",
       " 'Frequency_of_occurrence',\n",
       " 'presence_of_ch,sh,th,st,f',\n",
       " 'part_of_speech',\n",
       " 'pronounce_g_j',\n",
       " 'Pronounce_c_k',\n",
       " 'overall_label']"
      ]
     },
     "execution_count": 63,
     "metadata": {},
     "output_type": "execute_result"
    }
   ],
   "source": [
    "data.columns.tolist()"
   ]
  },
  {
   "cell_type": "code",
   "execution_count": 64,
   "metadata": {
    "colab": {
     "base_uri": "https://localhost:8080/",
     "height": 187
    },
    "colab_type": "code",
    "id": "3NbAjjF7OBTe",
    "outputId": "3ee813c6-4917-46e8-f3ad-4a1b52bd97b0"
   },
   "outputs": [
    {
     "data": {
      "text/plain": [
       "words                        object\n",
       "no_of_char                    int64\n",
       "syllable_count                int64\n",
       "Frequency_of_occurrence       int64\n",
       "presence_of_ch,sh,th,st,f     int64\n",
       "part_of_speech                int64\n",
       "pronounce_g_j                 int64\n",
       "Pronounce_c_k                 int64\n",
       "overall_label                 int64\n",
       "dtype: object"
      ]
     },
     "execution_count": 64,
     "metadata": {},
     "output_type": "execute_result"
    }
   ],
   "source": [
    "data.dtypes"
   ]
  },
  {
   "cell_type": "code",
   "execution_count": 65,
   "metadata": {
    "colab": {
     "base_uri": "https://localhost:8080/",
     "height": 289
    },
    "colab_type": "code",
    "id": "6pj8dTsMOE2y",
    "outputId": "e7f70fb9-3a2f-4024-a8f6-f36e75904704"
   },
   "outputs": [
    {
     "name": "stdout",
     "output_type": "stream",
     "text": [
      "<class 'pandas.core.frame.DataFrame'>\n",
      "RangeIndex: 1000 entries, 0 to 999\n",
      "Data columns (total 9 columns):\n",
      " #   Column                     Non-Null Count  Dtype \n",
      "---  ------                     --------------  ----- \n",
      " 0   words                      1000 non-null   object\n",
      " 1   no_of_char                 1000 non-null   int64 \n",
      " 2   syllable_count             1000 non-null   int64 \n",
      " 3   Frequency_of_occurrence    1000 non-null   int64 \n",
      " 4   presence_of_ch,sh,th,st,f  1000 non-null   int64 \n",
      " 5   part_of_speech             1000 non-null   int64 \n",
      " 6   pronounce_g_j              1000 non-null   int64 \n",
      " 7   Pronounce_c_k              1000 non-null   int64 \n",
      " 8   overall_label              1000 non-null   int64 \n",
      "dtypes: int64(8), object(1)\n",
      "memory usage: 70.4+ KB\n"
     ]
    }
   ],
   "source": [
    "data.info()"
   ]
  },
  {
   "cell_type": "code",
   "execution_count": 66,
   "metadata": {
    "colab": {
     "base_uri": "https://localhost:8080/",
     "height": 297
    },
    "colab_type": "code",
    "id": "nZ-SEsJLO24M",
    "outputId": "8262c41a-4d26-4822-8e13-41cc28eaa438"
   },
   "outputs": [
    {
     "data": {
      "text/html": [
       "<div>\n",
       "<style scoped>\n",
       "    .dataframe tbody tr th:only-of-type {\n",
       "        vertical-align: middle;\n",
       "    }\n",
       "\n",
       "    .dataframe tbody tr th {\n",
       "        vertical-align: top;\n",
       "    }\n",
       "\n",
       "    .dataframe thead th {\n",
       "        text-align: right;\n",
       "    }\n",
       "</style>\n",
       "<table border=\"1\" class=\"dataframe\">\n",
       "  <thead>\n",
       "    <tr style=\"text-align: right;\">\n",
       "      <th></th>\n",
       "      <th>no_of_char</th>\n",
       "      <th>syllable_count</th>\n",
       "      <th>Frequency_of_occurrence</th>\n",
       "      <th>presence_of_ch,sh,th,st,f</th>\n",
       "      <th>part_of_speech</th>\n",
       "      <th>pronounce_g_j</th>\n",
       "      <th>Pronounce_c_k</th>\n",
       "      <th>overall_label</th>\n",
       "    </tr>\n",
       "  </thead>\n",
       "  <tbody>\n",
       "    <tr>\n",
       "      <th>count</th>\n",
       "      <td>1000.000000</td>\n",
       "      <td>1000.000000</td>\n",
       "      <td>1000.000000</td>\n",
       "      <td>1000.000000</td>\n",
       "      <td>1000.00000</td>\n",
       "      <td>1000.000000</td>\n",
       "      <td>1000.000000</td>\n",
       "      <td>1000.00000</td>\n",
       "    </tr>\n",
       "    <tr>\n",
       "      <th>mean</th>\n",
       "      <td>0.508000</td>\n",
       "      <td>0.343000</td>\n",
       "      <td>0.716000</td>\n",
       "      <td>0.217000</td>\n",
       "      <td>1.51400</td>\n",
       "      <td>0.228000</td>\n",
       "      <td>0.257000</td>\n",
       "      <td>0.48000</td>\n",
       "    </tr>\n",
       "    <tr>\n",
       "      <th>std</th>\n",
       "      <td>0.500186</td>\n",
       "      <td>0.474949</td>\n",
       "      <td>0.451162</td>\n",
       "      <td>0.412409</td>\n",
       "      <td>0.83096</td>\n",
       "      <td>0.419753</td>\n",
       "      <td>0.437198</td>\n",
       "      <td>0.49985</td>\n",
       "    </tr>\n",
       "    <tr>\n",
       "      <th>min</th>\n",
       "      <td>0.000000</td>\n",
       "      <td>0.000000</td>\n",
       "      <td>0.000000</td>\n",
       "      <td>0.000000</td>\n",
       "      <td>1.00000</td>\n",
       "      <td>0.000000</td>\n",
       "      <td>0.000000</td>\n",
       "      <td>0.00000</td>\n",
       "    </tr>\n",
       "    <tr>\n",
       "      <th>25%</th>\n",
       "      <td>0.000000</td>\n",
       "      <td>0.000000</td>\n",
       "      <td>0.000000</td>\n",
       "      <td>0.000000</td>\n",
       "      <td>1.00000</td>\n",
       "      <td>0.000000</td>\n",
       "      <td>0.000000</td>\n",
       "      <td>0.00000</td>\n",
       "    </tr>\n",
       "    <tr>\n",
       "      <th>50%</th>\n",
       "      <td>1.000000</td>\n",
       "      <td>0.000000</td>\n",
       "      <td>1.000000</td>\n",
       "      <td>0.000000</td>\n",
       "      <td>1.00000</td>\n",
       "      <td>0.000000</td>\n",
       "      <td>0.000000</td>\n",
       "      <td>0.00000</td>\n",
       "    </tr>\n",
       "    <tr>\n",
       "      <th>75%</th>\n",
       "      <td>1.000000</td>\n",
       "      <td>1.000000</td>\n",
       "      <td>1.000000</td>\n",
       "      <td>0.000000</td>\n",
       "      <td>2.00000</td>\n",
       "      <td>0.000000</td>\n",
       "      <td>1.000000</td>\n",
       "      <td>1.00000</td>\n",
       "    </tr>\n",
       "    <tr>\n",
       "      <th>max</th>\n",
       "      <td>1.000000</td>\n",
       "      <td>1.000000</td>\n",
       "      <td>1.000000</td>\n",
       "      <td>1.000000</td>\n",
       "      <td>4.00000</td>\n",
       "      <td>1.000000</td>\n",
       "      <td>1.000000</td>\n",
       "      <td>1.00000</td>\n",
       "    </tr>\n",
       "  </tbody>\n",
       "</table>\n",
       "</div>"
      ],
      "text/plain": [
       "        no_of_char  syllable_count  Frequency_of_occurrence  \\\n",
       "count  1000.000000     1000.000000              1000.000000   \n",
       "mean      0.508000        0.343000                 0.716000   \n",
       "std       0.500186        0.474949                 0.451162   \n",
       "min       0.000000        0.000000                 0.000000   \n",
       "25%       0.000000        0.000000                 0.000000   \n",
       "50%       1.000000        0.000000                 1.000000   \n",
       "75%       1.000000        1.000000                 1.000000   \n",
       "max       1.000000        1.000000                 1.000000   \n",
       "\n",
       "       presence_of_ch,sh,th,st,f  part_of_speech  pronounce_g_j  \\\n",
       "count                1000.000000      1000.00000    1000.000000   \n",
       "mean                    0.217000         1.51400       0.228000   \n",
       "std                     0.412409         0.83096       0.419753   \n",
       "min                     0.000000         1.00000       0.000000   \n",
       "25%                     0.000000         1.00000       0.000000   \n",
       "50%                     0.000000         1.00000       0.000000   \n",
       "75%                     0.000000         2.00000       0.000000   \n",
       "max                     1.000000         4.00000       1.000000   \n",
       "\n",
       "       Pronounce_c_k  overall_label  \n",
       "count    1000.000000     1000.00000  \n",
       "mean        0.257000        0.48000  \n",
       "std         0.437198        0.49985  \n",
       "min         0.000000        0.00000  \n",
       "25%         0.000000        0.00000  \n",
       "50%         0.000000        0.00000  \n",
       "75%         1.000000        1.00000  \n",
       "max         1.000000        1.00000  "
      ]
     },
     "execution_count": 66,
     "metadata": {},
     "output_type": "execute_result"
    }
   ],
   "source": [
    "data.describe()"
   ]
  },
  {
   "cell_type": "code",
   "execution_count": 67,
   "metadata": {
    "colab": {
     "base_uri": "https://localhost:8080/",
     "height": 68
    },
    "colab_type": "code",
    "id": "M26iF3zbOG5a",
    "outputId": "1ac0126e-aada-4300-e3be-f4cec700460f"
   },
   "outputs": [
    {
     "data": {
      "text/plain": [
       "0    520\n",
       "1    480\n",
       "Name: overall_label, dtype: int64"
      ]
     },
     "execution_count": 67,
     "metadata": {},
     "output_type": "execute_result"
    }
   ],
   "source": [
    "data['overall_label'].value_counts(sort = False)"
   ]
  },
  {
   "cell_type": "code",
   "execution_count": 68,
   "metadata": {
    "colab": {
     "base_uri": "https://localhost:8080/",
     "height": 482
    },
    "colab_type": "code",
    "id": "Kpdofk8dOTTb",
    "outputId": "a1d529e1-8879-4d43-ee73-9f05432de154"
   },
   "outputs": [
    {
     "data": {
      "image/png": "[encoded data removed]",
      "text/plain": [
       "<Figure size 576x576 with 1 Axes>"
      ]
     },
     "metadata": {},
     "output_type": "display_data"
    }
   ],
   "source": [
    "labels = data['overall_label'].value_counts(sort = True).index\n",
    "sizes = data['overall_label'].value_counts(sort = True)\n",
    "colors = [\"blue\",\"red\"]\n",
    "explode = (0.1,0) \n",
    "rcParams['figure.figsize'] = 8,8\n",
    "plt.pie(sizes, explode=explode, labels=labels, colors=colors, autopct='%1.1f%%', shadow=True, startangle=270,)\n",
    "plt.title('Percent of difficulty')\n",
    "plt.show()"
   ]
  },
  {
   "cell_type": "markdown",
   "metadata": {
    "colab_type": "text",
    "id": "JCurnMRvOcO5"
   },
   "source": [
    "4.Manipulating the data"
   ]
  },
  {
   "cell_type": "markdown",
   "metadata": {
    "colab_type": "text",
    "id": "1NM4kOaXO6_R"
   },
   "source": [
    "4.1.Checking for missing values"
   ]
  },
  {
   "cell_type": "code",
   "execution_count": 69,
   "metadata": {
    "colab": {
     "base_uri": "https://localhost:8080/",
     "height": 187
    },
    "colab_type": "code",
    "id": "40kjFV09OrRH",
    "outputId": "da67b721-574c-4530-f07d-f2408d8ce21e"
   },
   "outputs": [
    {
     "data": {
      "text/plain": [
       "words                        0\n",
       "no_of_char                   0\n",
       "syllable_count               0\n",
       "Frequency_of_occurrence      0\n",
       "presence_of_ch,sh,th,st,f    0\n",
       "part_of_speech               0\n",
       "pronounce_g_j                0\n",
       "Pronounce_c_k                0\n",
       "overall_label                0\n",
       "dtype: int64"
      ]
     },
     "execution_count": 69,
     "metadata": {},
     "output_type": "execute_result"
    }
   ],
   "source": [
    "data.isnull().sum()"
   ]
  },
  {
   "cell_type": "markdown",
   "metadata": {
    "colab_type": "text",
    "id": "x9CWbphgO8gh"
   },
   "source": [
    "4.2.Dropping missing values"
   ]
  },
  {
   "cell_type": "code",
   "execution_count": 70,
   "metadata": {
    "colab": {
     "base_uri": "https://localhost:8080/",
     "height": 187
    },
    "colab_type": "code",
    "id": "42zW-js8O_aM",
    "outputId": "812e7adf-fcad-4efe-cec6-5c7e70c545b9"
   },
   "outputs": [
    {
     "data": {
      "text/plain": [
       "words                        0\n",
       "no_of_char                   0\n",
       "syllable_count               0\n",
       "Frequency_of_occurrence      0\n",
       "presence_of_ch,sh,th,st,f    0\n",
       "part_of_speech               0\n",
       "pronounce_g_j                0\n",
       "Pronounce_c_k                0\n",
       "overall_label                0\n",
       "dtype: int64"
      ]
     },
     "execution_count": 70,
     "metadata": {},
     "output_type": "execute_result"
    }
   ],
   "source": [
    "data.dropna(inplace = True)\n",
    "#Re-check for missing values\n",
    "data.isnull().sum()"
   ]
  },
  {
   "cell_type": "markdown",
   "metadata": {
    "colab_type": "text",
    "id": "bWXdaVMCPnnS"
   },
   "source": [
    "5.Get Correlation of difficullty with other variables"
   ]
  },
  {
   "cell_type": "code",
   "execution_count": 71,
   "metadata": {
    "colab": {
     "base_uri": "https://localhost:8080/",
     "height": 616
    },
    "colab_type": "code",
    "id": "dbLqQxgTPuhT",
    "outputId": "dc40e384-e38b-4a4a-f671-32a799adf02b"
   },
   "outputs": [
    {
     "data": {
      "text/plain": [
       "<matplotlib.axes._subplots.AxesSubplot at 0x22aeaa1d548>"
      ]
     },
     "execution_count": 71,
     "metadata": {},
     "output_type": "execute_result"
    },
    {
     "data": {
      "image/png": "[encoded data removed]",
      "text/plain": [
       "<Figure size 1080x576 with 1 Axes>"
      ]
     },
     "metadata": {
      "needs_background": "light"
     },
     "output_type": "display_data"
    }
   ],
   "source": [
    "plt.figure(figsize=(15,8))\n",
    "data.corr()['overall_label'].sort_values(ascending = False).plot(kind='bar')"
   ]
  },
  {
   "cell_type": "code",
   "execution_count": 72,
   "metadata": {
    "colab": {
     "base_uri": "https://localhost:8080/",
     "height": 170
    },
    "colab_type": "code",
    "id": "qpbZFFmWP1iq",
    "outputId": "7315f91c-ee86-48d4-c3f4-1a03b45566ec"
   },
   "outputs": [
    {
     "data": {
      "text/plain": [
       "part_of_speech               0.111534\n",
       "pronounce_g_j                0.131486\n",
       "presence_of_ch,sh,th,st,f    0.140043\n",
       "Pronounce_c_k                0.227378\n",
       "Frequency_of_occurrence      0.387593\n",
       "syllable_count               0.667719\n",
       "no_of_char                   0.769354\n",
       "overall_label                1.000000\n",
       "Name: overall_label, dtype: float64"
      ]
     },
     "execution_count": 72,
     "metadata": {},
     "output_type": "execute_result"
    }
   ],
   "source": [
    "data.corr()[\"overall_label\"].sort_values()"
   ]
  },
  {
   "cell_type": "code",
   "execution_count": 73,
   "metadata": {
    "colab": {
     "base_uri": "https://localhost:8080/",
     "height": 1000
    },
    "colab_type": "code",
    "id": "d-5YEjuqP3vn",
    "outputId": "c8c85fde-46de-403a-8e47-90489585a0da"
   },
   "outputs": [
    {
     "data": {
      "image/png": "[encoded data removed]",
      "text/plain": [
       "<Figure size 1800x1800 with 2 Axes>"
      ]
     },
     "metadata": {
      "needs_background": "light"
     },
     "output_type": "display_data"
    }
   ],
   "source": [
    "f,ax = plt.subplots(figsize=(25, 25))\n",
    "sns.heatmap(data.corr(), annot=True, linewidths=.5, fmt= '.2f',ax=ax)\n",
    "plt.show()"
   ]
  },
  {
   "cell_type": "markdown",
   "metadata": {
    "colab_type": "text",
    "id": "Pl6OPsMuSkma"
   },
   "source": [
    "6.Applying Machine Learning algorithms, creating the model and train"
   ]
  },
  {
   "cell_type": "markdown",
   "metadata": {
    "colab_type": "text",
    "id": "F4bFzAkJQB48"
   },
   "source": [
    "6.1.Prepare x and y"
   ]
  },
  {
   "cell_type": "code",
   "execution_count": 74,
   "metadata": {
    "colab": {},
    "colab_type": "code",
    "id": "yiOx-xyIQOxA"
   },
   "outputs": [],
   "source": [
    "# features and target\n",
    "target = 'overall_label'\n",
    "features = ['no_of_char', 'syllable_count', 'Frequency_of_occurrence', 'presence_of_ch,sh,th,st,f', 'part_of_speech', 'pronounce_g_j', 'Pronounce_c_k']\n",
    "\n",
    "# X matrix, y vector\n",
    "X = data[features]\n",
    "y = data[target]"
   ]
  },
  {
   "cell_type": "markdown",
   "metadata": {
    "colab_type": "text",
    "id": "aQeegwqiQUJj"
   },
   "source": [
    "6.2.Splitting Data"
   ]
  },
  {
   "cell_type": "code",
   "execution_count": 75,
   "metadata": {
    "colab": {
     "base_uri": "https://localhost:8080/",
     "height": 34
    },
    "colab_type": "code",
    "id": "Opd2_tTSQaky",
    "outputId": "35cce013-6498-4ad2-be86-70c8397ab181"
   },
   "outputs": [
    {
     "name": "stdout",
     "output_type": "stream",
     "text": [
      "(800, 7) (800,) (200, 7) (200,)\n"
     ]
    }
   ],
   "source": [
    "#Split dataset into Train and Test \n",
    "from sklearn.model_selection import train_test_split\n",
    "x_train, x_test, y_train, y_test = train_test_split(X, y, test_size=0.2,random_state =1)\n",
    "print(x_train.shape, y_train.shape, x_test.shape, y_test.shape)"
   ]
  },
  {
   "cell_type": "markdown",
   "metadata": {
    "colab_type": "text",
    "id": "cWXuw_JvQepg"
   },
   "source": [
    "6.3.Apply Machine Learning Algorithm - Logistic Regression Classification"
   ]
  },
  {
   "cell_type": "code",
   "execution_count": 76,
   "metadata": {
    "colab": {
     "base_uri": "https://localhost:8080/",
     "height": 221
    },
    "colab_type": "code",
    "id": "nT4s5vGHU8FD",
    "outputId": "f9ce5177-4275-4153-f8c8-53e95171abb3"
   },
   "outputs": [
    {
     "name": "stdout",
     "output_type": "stream",
     "text": [
      "              precision    recall  f1-score   support\n",
      "\n",
      "           0       0.96      0.91      0.93       109\n",
      "           1       0.90      0.96      0.93        91\n",
      "\n",
      "    accuracy                           0.93       200\n",
      "   macro avg       0.93      0.93      0.93       200\n",
      "weighted avg       0.93      0.93      0.93       200\n",
      "\n",
      "[[99 10]\n",
      " [ 4 87]]\n",
      "LogisticRegression accuracy is 0.93\n"
     ]
    }
   ],
   "source": [
    "# LogisticRegression\n",
    "from sklearn.linear_model import LogisticRegression\n",
    "LogisticRegressionClassifier = LogisticRegression()\n",
    "LogisticRegressionClassifier.fit(x_train, y_train)\n",
    "\n",
    "y_pred = LogisticRegressionClassifier.predict(x_test)\n",
    "\n",
    "# Summary of the predictions made by the classifier\n",
    "print(classification_report(y_test, y_pred))\n",
    "print(confusion_matrix(y_test, y_pred))\n",
    "# Accuracy score\n",
    "from sklearn.metrics import accuracy_score\n",
    "print('LogisticRegression accuracy is',accuracy_score(y_pred,y_test))"
   ]
  },
  {
   "cell_type": "markdown",
   "metadata": {
    "colab_type": "text",
    "id": "O9SIQYFOTjTC"
   },
   "source": [
    "6.4.Apply Machine Learning Algorithm - Naive Bayes"
   ]
  },
  {
   "cell_type": "code",
   "execution_count": 77,
   "metadata": {
    "colab": {
     "base_uri": "https://localhost:8080/",
     "height": 221
    },
    "colab_type": "code",
    "id": "xRG5e30hTuEz",
    "outputId": "cdc4fe98-1bd2-431e-92fe-57c0e014259b"
   },
   "outputs": [
    {
     "name": "stdout",
     "output_type": "stream",
     "text": [
      "              precision    recall  f1-score   support\n",
      "\n",
      "           0       0.96      0.87      0.91       109\n",
      "           1       0.86      0.96      0.91        91\n",
      "\n",
      "    accuracy                           0.91       200\n",
      "   macro avg       0.91      0.91      0.91       200\n",
      "weighted avg       0.91      0.91      0.91       200\n",
      "\n",
      "[[95 14]\n",
      " [ 4 87]]\n",
      "Naive Bayes accuracy is 0.91\n"
     ]
    }
   ],
   "source": [
    "# Naive Bayes\n",
    "from sklearn.naive_bayes import GaussianNB\n",
    "NaiveBayesClassifier = GaussianNB()\n",
    "NaiveBayesClassifier.fit(x_train,y_train)\n",
    "\n",
    "y_pred = NaiveBayesClassifier.predict(x_test)\n",
    "\n",
    "# Summary of the predictions made by the classifier\n",
    "print(classification_report(y_test, y_pred))\n",
    "print(confusion_matrix(y_test, y_pred))\n",
    "# Accuracy score\n",
    "from sklearn.metrics import accuracy_score\n",
    "print('Naive Bayes accuracy is',accuracy_score(y_pred,y_test))"
   ]
  },
  {
   "cell_type": "markdown",
   "metadata": {
    "colab_type": "text",
    "id": "hU2n8Nl4TuvL"
   },
   "source": [
    "6.5.Apply Machine Learning Algorithm - Support Vector Machine"
   ]
  },
  {
   "cell_type": "code",
   "execution_count": 78,
   "metadata": {
    "colab": {
     "base_uri": "https://localhost:8080/",
     "height": 221
    },
    "colab_type": "code",
    "id": "IcdNT3rJTz-x",
    "outputId": "a4800e02-adc2-4fce-c48f-48c07b354709"
   },
   "outputs": [
    {
     "name": "stdout",
     "output_type": "stream",
     "text": [
      "              precision    recall  f1-score   support\n",
      "\n",
      "           0       0.96      0.95      0.96       109\n",
      "           1       0.95      0.96      0.95        91\n",
      "\n",
      "    accuracy                           0.95       200\n",
      "   macro avg       0.95      0.96      0.95       200\n",
      "weighted avg       0.96      0.95      0.96       200\n",
      "\n",
      "[[104   5]\n",
      " [  4  87]]\n",
      "SVM accuracy is 0.955\n"
     ]
    }
   ],
   "source": [
    "# Support Vector Machine's \n",
    "from sklearn.svm import SVC\n",
    "\n",
    "SVMClassifier = SVC()\n",
    "SVMClassifier.fit(x_train, y_train)\n",
    "\n",
    "y_pred = SVMClassifier.predict(x_test)\n",
    "\n",
    "# Summary of the predictions made by the classifier\n",
    "print(classification_report(y_test, y_pred))\n",
    "print(confusion_matrix(y_test, y_pred))\n",
    "# Accuracy score\n",
    "from sklearn.metrics import accuracy_score\n",
    "print('SVM accuracy is',accuracy_score(y_pred,y_test))"
   ]
  },
  {
   "cell_type": "markdown",
   "metadata": {
    "colab_type": "text",
    "id": "oBBnjQmkT3WG"
   },
   "source": [
    "6.6.Apply Machine Learning Algorithm - K-Nearest Neighbours"
   ]
  },
  {
   "cell_type": "code",
   "execution_count": 79,
   "metadata": {
    "colab": {
     "base_uri": "https://localhost:8080/",
     "height": 221
    },
    "colab_type": "code",
    "id": "f30Ac2MyUQ1s",
    "outputId": "67ce97ed-5672-4cc1-b704-9c5435f32f43"
   },
   "outputs": [
    {
     "name": "stdout",
     "output_type": "stream",
     "text": [
      "              precision    recall  f1-score   support\n",
      "\n",
      "           0       0.94      0.95      0.95       109\n",
      "           1       0.94      0.92      0.93        91\n",
      "\n",
      "    accuracy                           0.94       200\n",
      "   macro avg       0.94      0.94      0.94       200\n",
      "weighted avg       0.94      0.94      0.94       200\n",
      "\n",
      "[[104   5]\n",
      " [  7  84]]\n",
      "KNN accuracy is 0.94\n"
     ]
    }
   ],
   "source": [
    "# K-Nearest Neighbours\n",
    "from sklearn.neighbors import KNeighborsClassifier\n",
    "\n",
    "KNNClassifier = KNeighborsClassifier(n_neighbors=8)\n",
    "KNNClassifier.fit(x_train, y_train)\n",
    "\n",
    "y_pred = KNNClassifier.predict(x_test)\n",
    "\n",
    "# Summary of the predictions made by the classifier\n",
    "print(classification_report(y_test, y_pred))\n",
    "print(confusion_matrix(y_test, y_pred))\n",
    "# Accuracy score\n",
    "from sklearn.metrics import accuracy_score\n",
    "print('KNN accuracy is',accuracy_score(y_pred,y_test))"
   ]
  },
  {
   "cell_type": "markdown",
   "metadata": {
    "colab_type": "text",
    "id": "LE_k-PR4T-gT"
   },
   "source": [
    "6.7.Apply Machine Learning Algorithm - Decision Tree"
   ]
  },
  {
   "cell_type": "code",
   "execution_count": 80,
   "metadata": {
    "colab": {
     "base_uri": "https://localhost:8080/",
     "height": 221
    },
    "colab_type": "code",
    "id": "BjkVAZUaT5Y6",
    "outputId": "23929d1e-8fab-49c7-f228-58acbf43baf8"
   },
   "outputs": [
    {
     "name": "stdout",
     "output_type": "stream",
     "text": [
      "              precision    recall  f1-score   support\n",
      "\n",
      "           0       0.95      0.97      0.96       109\n",
      "           1       0.97      0.93      0.95        91\n",
      "\n",
      "    accuracy                           0.95       200\n",
      "   macro avg       0.96      0.95      0.95       200\n",
      "weighted avg       0.96      0.95      0.95       200\n",
      "\n",
      "[[106   3]\n",
      " [  6  85]]\n",
      "Decision Tree accuracy is 0.955\n"
     ]
    }
   ],
   "source": [
    "# Decision Tree's\n",
    "from sklearn.tree import DecisionTreeClassifier\n",
    "\n",
    "DecisionTreeClassifier = DecisionTreeClassifier()\n",
    "\n",
    "DecisionTreeClassifier.fit(x_train, y_train)\n",
    "\n",
    "y_pred = DecisionTreeClassifier.predict(x_test)\n",
    "\n",
    "# Summary of the predictions made by the classifier\n",
    "print(classification_report(y_test, y_pred))\n",
    "print(confusion_matrix(y_test, y_pred))\n",
    "# Accuracy score\n",
    "from sklearn.metrics import accuracy_score\n",
    "print('Decision Tree accuracy is',accuracy_score(y_pred,y_test))"
   ]
  },
  {
   "cell_type": "markdown",
   "metadata": {
    "colab_type": "text",
    "id": "F7iLP7x2Qq2X"
   },
   "source": [
    "7.Evaluating the model"
   ]
  },
  {
   "cell_type": "markdown",
   "metadata": {
    "colab_type": "text",
    "id": "uU1IyjFYQtz5"
   },
   "source": [
    "7.1.Confusion matrix"
   ]
  },
  {
   "cell_type": "code",
   "execution_count": 81,
   "metadata": {
    "colab": {
     "base_uri": "https://localhost:8080/",
     "height": 351
    },
    "colab_type": "code",
    "id": "M7UL0vLoQv5y",
    "outputId": "62531e39-9c93-4bbc-d602-f6b203ce6ec9"
   },
   "outputs": [
    {
     "data": {
      "image/png": "[encoded data removed]",
      "text/plain": [
       "<Figure size 360x360 with 2 Axes>"
      ]
     },
     "metadata": {
      "needs_background": "light"
     },
     "output_type": "display_data"
    }
   ],
   "source": [
    "from sklearn.metrics import recall_score, confusion_matrix, precision_score, f1_score, accuracy_score, classification_report\n",
    "import matplotlib.pyplot as plt\n",
    "import seaborn as sns\n",
    "cm_lr = confusion_matrix(y_test,SVMClassifier.predict(x_test))\n",
    "\n",
    "f, ax = plt.subplots(figsize = (5,5))\n",
    "sns.heatmap(cm_lr, annot = True, linewidths = 0.5, color = \"red\", fmt = \".2f\", ax=ax)\n",
    "bottom, top = ax.get_ylim()\n",
    "ax.set_ylim(bottom + 0.5, top - 0.5)\n",
    "plt.xlabel(\"y_predicted\")\n",
    "plt.ylabel(\"y_true\")\n",
    "plt.title(\"Confusion Matrix of Logistic Regression\")\n",
    "plt.show()"
   ]
  },
  {
   "cell_type": "markdown",
   "metadata": {
    "colab_type": "text",
    "id": "tKzQjO5uQ2G_"
   },
   "source": [
    "7.2.Classification report"
   ]
  },
  {
   "cell_type": "code",
   "execution_count": 82,
   "metadata": {
    "colab": {
     "base_uri": "https://localhost:8080/",
     "height": 170
    },
    "colab_type": "code",
    "id": "t55mxZoxQ7bU",
    "outputId": "c6c7fd2f-788c-4561-9286-7908e050e9c9"
   },
   "outputs": [
    {
     "name": "stdout",
     "output_type": "stream",
     "text": [
      "              precision    recall  f1-score   support\n",
      "\n",
      "           0       0.96      0.95      0.96       109\n",
      "           1       0.95      0.96      0.95        91\n",
      "\n",
      "    accuracy                           0.95       200\n",
      "   macro avg       0.95      0.96      0.95       200\n",
      "weighted avg       0.96      0.95      0.96       200\n",
      "\n"
     ]
    }
   ],
   "source": [
    "report = classification_report(y_test, SVMClassifier.predict(x_test))\n",
    "print(report)"
   ]
  },
  {
   "cell_type": "markdown",
   "metadata": {
    "colab_type": "text",
    "id": "sIzw5H3kN8g4"
   },
   "source": [
    "8.Pickle Model"
   ]
  },
  {
   "cell_type": "code",
   "execution_count": 83,
   "metadata": {
    "colab": {},
    "colab_type": "code",
    "id": "3u2CAWHEM5yo"
   },
   "outputs": [],
   "source": [
    "import pickle\n",
    "pickle.dump(SVMClassifier, open('model.pkl', 'wb'))"
   ]
  },
  {
   "cell_type": "markdown",
   "metadata": {
    "colab_type": "text",
    "id": "EjwzK0GyRJjc"
   },
   "source": [
    "9.Test Flask in Production"
   ]
  },
  {
   "cell_type": "code",
   "execution_count": 84,
   "metadata": {
    "colab": {},
    "colab_type": "code",
    "id": "DSl4RltEM5yt"
   },
   "outputs": [],
   "source": [
    "import requests\n",
    "import json"
   ]
  },
  {
   "cell_type": "code",
   "execution_count": 85,
   "metadata": {
    "colab": {
     "base_uri": "https://localhost:8080/",
     "height": 52
    },
    "colab_type": "code",
    "id": "Zu-itGAbM5yy",
    "outputId": "e4bbad52-7742-4880-d226-637093f099a2"
   },
   "outputs": [
    {
     "data": {
      "text/plain": [
       "'{\"no_of_char\": 1, \"syllable_count\": 1, \"Frequency_of_occurrence\": 0, \"presence_of_ch,sh,th,st,f\": 0, \"part_of_speech\": 1, \"pronounce_g_j\": 1, \"Pronounce_c_k\": 0}'"
      ]
     },
     "execution_count": 85,
     "metadata": {},
     "output_type": "execute_result"
    }
   ],
   "source": [
    "# local url\n",
    "url = 'http://127.0.0.1:12345'\n",
    "\n",
    "# test data #1\n",
    "\n",
    "data = {  \n",
    "          'no_of_char': 1,\n",
    "          'syllable_count': 1,\n",
    "          'Frequency_of_occurrence': 0,\n",
    "          'presence_of_ch,sh,th,st,f': 0,\n",
    "          'part_of_speech': 1,\n",
    "          'pronounce_g_j': 1,\n",
    "          'Pronounce_c_k': 0\n",
    "      }\n",
    "\n",
    "data = json.dumps(data)\n",
    "data"
   ]
  },
  {
   "cell_type": "code",
   "execution_count": 86,
   "metadata": {
    "colab": {
     "base_uri": "https://localhost:8080/",
     "height": 629
    },
    "colab_type": "code",
    "id": "BTMBDG4nM5y4",
    "outputId": "2e6fd4da-f71d-4f41-9f41-bd16c5087b55"
   },
   "outputs": [
    {
     "name": "stdout",
     "output_type": "stream",
     "text": [
      "<Response [200]>\n"
     ]
    }
   ],
   "source": [
    "r_survey = requests.post(url, data)\n",
    "print(r_survey)"
   ]
  },
  {
   "cell_type": "code",
   "execution_count": 87,
   "metadata": {
    "colab": {},
    "colab_type": "code",
    "id": "t8lUdNCBM5y8",
    "outputId": "308ba466-82f7-44c8-8abe-100913472d4b"
   },
   "outputs": [
    {
     "name": "stdout",
     "output_type": "stream",
     "text": [
      "<Response [200]>\n"
     ]
    }
   ],
   "source": [
    "send_request = requests.post(url, data)\n",
    "print(send_request)"
   ]
  },
  {
   "cell_type": "code",
   "execution_count": 88,
   "metadata": {
    "colab": {},
    "colab_type": "code",
    "id": "lVg_Q3HiM5zD",
    "outputId": "f7f869f4-2f97-476f-a404-d5b17cf7aeb4"
   },
   "outputs": [
    {
     "name": "stdout",
     "output_type": "stream",
     "text": [
      "{'results': {'results': 1}}\n"
     ]
    }
   ],
   "source": [
    "print(send_request.json())"
   ]
  },
  {
   "cell_type": "markdown",
   "metadata": {
    "colab_type": "text",
    "id": "aEg1HQ97RW8Q"
   },
   "source": [
    "10.Test App in Heroku"
   ]
  },
  {
   "cell_type": "code",
   "execution_count": 89,
   "metadata": {
    "colab": {
     "base_uri": "https://localhost:8080/",
     "height": 52
    },
    "colab_type": "code",
    "id": "qI7DFFS_M5zH",
    "outputId": "9d53f94c-d133-4118-d422-678728ccf9f3"
   },
   "outputs": [
    {
     "data": {
      "text/plain": [
       "'{\"no_of_char\": 1, \"syllable_count\": 1, \"Frequency_of_occurrence\": 0, \"presence_of_ch,sh,th,st,f\": 0, \"part_of_speech\": 1, \"pronounce_g_j\": 1, \"Pronounce_c_k\": 0}'"
      ]
     },
     "execution_count": 89,
     "metadata": {},
     "output_type": "execute_result"
    }
   ],
   "source": [
    "# heroku url\n",
    "heroku_url = 'https://predictworddifficulty.herokuapp.com/'\n",
    "\n",
    "# test data #1\n",
    "data =  {  \n",
    "          'no_of_char': 1,\n",
    "          'syllable_count': 1,\n",
    "          'Frequency_of_occurrence': 0,\n",
    "          'presence_of_ch,sh,th,st,f': 0,\n",
    "          'part_of_speech': 1,\n",
    "          'pronounce_g_j': 1,\n",
    "          'Pronounce_c_k': 0\n",
    "      }\n",
    "\n",
    "data = json.dumps(data)\n",
    "data"
   ]
  },
  {
   "cell_type": "code",
   "execution_count": 90,
   "metadata": {
    "colab": {
     "base_uri": "https://localhost:8080/",
     "height": 34
    },
    "colab_type": "code",
    "id": "t_M6Ap7IM5zL",
    "outputId": "77c5c1e1-9c6b-4f27-9d0c-f6447a8dab8e"
   },
   "outputs": [
    {
     "name": "stdout",
     "output_type": "stream",
     "text": [
      "<Response [200]>\n"
     ]
    }
   ],
   "source": [
    "# check response code\n",
    "r_survey = requests.post(heroku_url, data)\n",
    "print(r_survey)"
   ]
  },
  {
   "cell_type": "code",
   "execution_count": 91,
   "metadata": {
    "colab": {
     "base_uri": "https://localhost:8080/",
     "height": 180
    },
    "colab_type": "code",
    "id": "U5MHAZXlM5zT",
    "outputId": "db08700a-b5e4-4d6d-be66-c25542568ddf"
   },
   "outputs": [
    {
     "name": "stdout",
     "output_type": "stream",
     "text": [
      "{'results': {'results': 1}}\n"
     ]
    }
   ],
   "source": [
    "# get prediction\n",
    "print(send_request.json())"
   ]
  }
 ],
 "metadata": {
  "colab": {
   "collapsed_sections": [],
   "name": "WordDifficultyPrediction_K1.ipynb",
   "provenance": []
  },
  "kernelspec": {
   "display_name": "Python 3",
   "language": "python",
   "name": "python3"
  },
  "language_info": {
   "codemirror_mode": {
    "name": "ipython",
    "version": 3
   },
   "file_extension": ".py",
   "mimetype": "text/x-python",
   "name": "python",
   "nbconvert_exporter": "python",
   "pygments_lexer": "ipython3",
   "version": "3.7.6"
  }
 },
 "nbformat": 4,
 "nbformat_minor": 1
}
